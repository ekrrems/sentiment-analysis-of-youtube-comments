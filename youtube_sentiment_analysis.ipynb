{
  "cells": [
    {
      "cell_type": "code",
      "execution_count": null,
      "metadata": {
        "id": "uv9OVpZPmjVg"
      },
      "outputs": [],
      "source": [
        "# Import necessary modelus\n",
        "import pandas as pd\n",
        "import numpy as np\n",
        "import tensorflow\n",
        "\n",
        "from sklearn.utils import resample\n",
        "from sklearn.model_selection import train_test_split"
      ]
    },
    {
      "cell_type": "code",
      "execution_count": null,
      "metadata": {
        "id": "q-3HcI0BoMA6"
      },
      "outputs": [],
      "source": [
        "comments = pd.read_csv(\"/content/drive/MyDrive/Projects/youtube_Comment_Sentiment_Analysis/comments.csv\", usecols=lambda column: column != \"Unnamed: 0\")"
      ]
    },
    {
      "cell_type": "code",
      "execution_count": null,
      "metadata": {
        "colab": {
          "base_uri": "https://localhost:8080/"
        },
        "id": "jjgoyRkDo9BS",
        "outputId": "a4040054-285a-460b-b987-250975848a08"
      },
      "outputs": [
        {
          "name": "stdout",
          "output_type": "stream",
          "text": [
            "<class 'pandas.core.frame.DataFrame'>\n",
            "RangeIndex: 18409 entries, 0 to 18408\n",
            "Data columns (total 4 columns):\n",
            " #   Column     Non-Null Count  Dtype  \n",
            "---  ------     --------------  -----  \n",
            " 0   Video ID   18409 non-null  object \n",
            " 1   Comment    18408 non-null  object \n",
            " 2   Likes      18409 non-null  float64\n",
            " 3   Sentiment  18409 non-null  float64\n",
            "dtypes: float64(2), object(2)\n",
            "memory usage: 575.4+ KB\n"
          ]
        }
      ],
      "source": [
        "comments.info()"
      ]
    },
    {
      "cell_type": "code",
      "execution_count": null,
      "metadata": {
        "colab": {
          "base_uri": "https://localhost:8080/",
          "height": 206
        },
        "id": "Ns3dSBseo-R5",
        "outputId": "92d4a301-58e5-4974-f8fb-f7371eb85cf2"
      },
      "outputs": [
        {
          "data": {
            "text/html": [
              "\n",
              "  <div id=\"df-21103fc0-2446-49c8-90a3-93216be5ef56\">\n",
              "    <div class=\"colab-df-container\">\n",
              "      <div>\n",
              "<style scoped>\n",
              "    .dataframe tbody tr th:only-of-type {\n",
              "        vertical-align: middle;\n",
              "    }\n",
              "\n",
              "    .dataframe tbody tr th {\n",
              "        vertical-align: top;\n",
              "    }\n",
              "\n",
              "    .dataframe thead th {\n",
              "        text-align: right;\n",
              "    }\n",
              "</style>\n",
              "<table border=\"1\" class=\"dataframe\">\n",
              "  <thead>\n",
              "    <tr style=\"text-align: right;\">\n",
              "      <th></th>\n",
              "      <th>Video ID</th>\n",
              "      <th>Comment</th>\n",
              "      <th>Likes</th>\n",
              "      <th>Sentiment</th>\n",
              "    </tr>\n",
              "  </thead>\n",
              "  <tbody>\n",
              "    <tr>\n",
              "      <th>0</th>\n",
              "      <td>wAZZ-UWGVHI</td>\n",
              "      <td>Let's not forget that Apple Pay in 2014 requir...</td>\n",
              "      <td>95.0</td>\n",
              "      <td>1.0</td>\n",
              "    </tr>\n",
              "    <tr>\n",
              "      <th>1</th>\n",
              "      <td>wAZZ-UWGVHI</td>\n",
              "      <td>Here in NZ 50% of retailers don’t even have co...</td>\n",
              "      <td>19.0</td>\n",
              "      <td>0.0</td>\n",
              "    </tr>\n",
              "    <tr>\n",
              "      <th>2</th>\n",
              "      <td>wAZZ-UWGVHI</td>\n",
              "      <td>I will forever acknowledge this channel with t...</td>\n",
              "      <td>161.0</td>\n",
              "      <td>2.0</td>\n",
              "    </tr>\n",
              "    <tr>\n",
              "      <th>3</th>\n",
              "      <td>wAZZ-UWGVHI</td>\n",
              "      <td>Whenever I go to a place that doesn’t take App...</td>\n",
              "      <td>8.0</td>\n",
              "      <td>0.0</td>\n",
              "    </tr>\n",
              "    <tr>\n",
              "      <th>4</th>\n",
              "      <td>wAZZ-UWGVHI</td>\n",
              "      <td>Apple Pay is so convenient, secure, and easy t...</td>\n",
              "      <td>34.0</td>\n",
              "      <td>2.0</td>\n",
              "    </tr>\n",
              "  </tbody>\n",
              "</table>\n",
              "</div>\n",
              "      <button class=\"colab-df-convert\" onclick=\"convertToInteractive('df-21103fc0-2446-49c8-90a3-93216be5ef56')\"\n",
              "              title=\"Convert this dataframe to an interactive table.\"\n",
              "              style=\"display:none;\">\n",
              "        \n",
              "  <svg xmlns=\"http://www.w3.org/2000/svg\" height=\"24px\"viewBox=\"0 0 24 24\"\n",
              "       width=\"24px\">\n",
              "    <path d=\"M0 0h24v24H0V0z\" fill=\"none\"/>\n",
              "    <path d=\"M18.56 5.44l.94 2.06.94-2.06 2.06-.94-2.06-.94-.94-2.06-.94 2.06-2.06.94zm-11 1L8.5 8.5l.94-2.06 2.06-.94-2.06-.94L8.5 2.5l-.94 2.06-2.06.94zm10 10l.94 2.06.94-2.06 2.06-.94-2.06-.94-.94-2.06-.94 2.06-2.06.94z\"/><path d=\"M17.41 7.96l-1.37-1.37c-.4-.4-.92-.59-1.43-.59-.52 0-1.04.2-1.43.59L10.3 9.45l-7.72 7.72c-.78.78-.78 2.05 0 2.83L4 21.41c.39.39.9.59 1.41.59.51 0 1.02-.2 1.41-.59l7.78-7.78 2.81-2.81c.8-.78.8-2.07 0-2.86zM5.41 20L4 18.59l7.72-7.72 1.47 1.35L5.41 20z\"/>\n",
              "  </svg>\n",
              "      </button>\n",
              "      \n",
              "  <style>\n",
              "    .colab-df-container {\n",
              "      display:flex;\n",
              "      flex-wrap:wrap;\n",
              "      gap: 12px;\n",
              "    }\n",
              "\n",
              "    .colab-df-convert {\n",
              "      background-color: #E8F0FE;\n",
              "      border: none;\n",
              "      border-radius: 50%;\n",
              "      cursor: pointer;\n",
              "      display: none;\n",
              "      fill: #1967D2;\n",
              "      height: 32px;\n",
              "      padding: 0 0 0 0;\n",
              "      width: 32px;\n",
              "    }\n",
              "\n",
              "    .colab-df-convert:hover {\n",
              "      background-color: #E2EBFA;\n",
              "      box-shadow: 0px 1px 2px rgba(60, 64, 67, 0.3), 0px 1px 3px 1px rgba(60, 64, 67, 0.15);\n",
              "      fill: #174EA6;\n",
              "    }\n",
              "\n",
              "    [theme=dark] .colab-df-convert {\n",
              "      background-color: #3B4455;\n",
              "      fill: #D2E3FC;\n",
              "    }\n",
              "\n",
              "    [theme=dark] .colab-df-convert:hover {\n",
              "      background-color: #434B5C;\n",
              "      box-shadow: 0px 1px 3px 1px rgba(0, 0, 0, 0.15);\n",
              "      filter: drop-shadow(0px 1px 2px rgba(0, 0, 0, 0.3));\n",
              "      fill: #FFFFFF;\n",
              "    }\n",
              "  </style>\n",
              "\n",
              "      <script>\n",
              "        const buttonEl =\n",
              "          document.querySelector('#df-21103fc0-2446-49c8-90a3-93216be5ef56 button.colab-df-convert');\n",
              "        buttonEl.style.display =\n",
              "          google.colab.kernel.accessAllowed ? 'block' : 'none';\n",
              "\n",
              "        async function convertToInteractive(key) {\n",
              "          const element = document.querySelector('#df-21103fc0-2446-49c8-90a3-93216be5ef56');\n",
              "          const dataTable =\n",
              "            await google.colab.kernel.invokeFunction('convertToInteractive',\n",
              "                                                     [key], {});\n",
              "          if (!dataTable) return;\n",
              "\n",
              "          const docLinkHtml = 'Like what you see? Visit the ' +\n",
              "            '<a target=\"_blank\" href=https://colab.research.google.com/notebooks/data_table.ipynb>data table notebook</a>'\n",
              "            + ' to learn more about interactive tables.';\n",
              "          element.innerHTML = '';\n",
              "          dataTable['output_type'] = 'display_data';\n",
              "          await google.colab.output.renderOutput(dataTable, element);\n",
              "          const docLink = document.createElement('div');\n",
              "          docLink.innerHTML = docLinkHtml;\n",
              "          element.appendChild(docLink);\n",
              "        }\n",
              "      </script>\n",
              "    </div>\n",
              "  </div>\n",
              "  "
            ],
            "text/plain": [
              "      Video ID                                            Comment  Likes  \\\n",
              "0  wAZZ-UWGVHI  Let's not forget that Apple Pay in 2014 requir...   95.0   \n",
              "1  wAZZ-UWGVHI  Here in NZ 50% of retailers don’t even have co...   19.0   \n",
              "2  wAZZ-UWGVHI  I will forever acknowledge this channel with t...  161.0   \n",
              "3  wAZZ-UWGVHI  Whenever I go to a place that doesn’t take App...    8.0   \n",
              "4  wAZZ-UWGVHI  Apple Pay is so convenient, secure, and easy t...   34.0   \n",
              "\n",
              "   Sentiment  \n",
              "0        1.0  \n",
              "1        0.0  \n",
              "2        2.0  \n",
              "3        0.0  \n",
              "4        2.0  "
            ]
          },
          "execution_count": 8,
          "metadata": {},
          "output_type": "execute_result"
        }
      ],
      "source": [
        "comments.head()"
      ]
    },
    {
      "cell_type": "code",
      "execution_count": null,
      "metadata": {
        "colab": {
          "base_uri": "https://localhost:8080/"
        },
        "id": "kh4JEf-tq9Ge",
        "outputId": "4f3b16d0-218b-4f0e-f483-d59b07dc922f"
      },
      "outputs": [
        {
          "data": {
            "text/plain": [
              "0    Let's not forget that Apple Pay in 2014 requir...\n",
              "1    Here in NZ 50% of retailers don’t even have co...\n",
              "2    I will forever acknowledge this channel with t...\n",
              "3    Whenever I go to a place that doesn’t take App...\n",
              "4    Apple Pay is so convenient, secure, and easy t...\n",
              "Name: Comment, dtype: object"
            ]
          },
          "execution_count": 9,
          "metadata": {},
          "output_type": "execute_result"
        }
      ],
      "source": [
        "comments['Comment'].head()"
      ]
    },
    {
      "cell_type": "code",
      "execution_count": null,
      "metadata": {
        "colab": {
          "base_uri": "https://localhost:8080/"
        },
        "id": "FEzVodvIp-8R",
        "outputId": "793eec9f-be35-4354-d42f-43851bc2ef46"
      },
      "outputs": [
        {
          "data": {
            "text/plain": [
              "2.0    11432\n",
              "1.0     4639\n",
              "0.0     2338\n",
              "Name: Sentiment, dtype: int64"
            ]
          },
          "execution_count": 11,
          "metadata": {},
          "output_type": "execute_result"
        }
      ],
      "source": [
        "comments['Sentiment'].value_counts()"
      ]
    },
    {
      "cell_type": "markdown",
      "metadata": {
        "id": "BTscjb73uc77"
      },
      "source": [
        "## Balance the Dataset (Undersampling)"
      ]
    },
    {
      "cell_type": "code",
      "execution_count": null,
      "metadata": {
        "id": "QGGiS3XMum84"
      },
      "outputs": [],
      "source": [
        "# Apply downsampling\n",
        "minority = comments[comments['Sentiment'] == 0.0]\n",
        "\n",
        "downsampled_ones = resample(comments[comments['Sentiment'] == 1.0],\n",
        "                            replace=False,\n",
        "                            n_samples=len(minority),\n",
        "                            random_state=42)\n",
        "\n",
        "downsampled_twos = resample(comments[comments['Sentiment'] == 2.0],\n",
        "                            replace=False, n_samples=len(minority),\n",
        "                            random_state=42)"
      ]
    },
    {
      "cell_type": "code",
      "execution_count": null,
      "metadata": {
        "id": "EhpIsi_rzv0f"
      },
      "outputs": [],
      "source": [
        "# Concatenate dataframes\n",
        "df = pd.concat([minority, downsampled_ones, downsampled_twos]).sample(frac=1).reset_index(drop=True)"
      ]
    },
    {
      "cell_type": "code",
      "execution_count": null,
      "metadata": {
        "colab": {
          "base_uri": "https://localhost:8080/"
        },
        "id": "EwX2bu6E0Rf2",
        "outputId": "97a30d1b-2937-4b3c-a2a0-88b49cf6faf0"
      },
      "outputs": [
        {
          "data": {
            "text/plain": [
              "0.0    2338\n",
              "2.0    2338\n",
              "1.0    2338\n",
              "Name: Sentiment, dtype: int64"
            ]
          },
          "execution_count": 15,
          "metadata": {},
          "output_type": "execute_result"
        }
      ],
      "source": [
        "# Check the final version of the dataset\n",
        "df['Sentiment'].value_counts()"
      ]
    },
    {
      "cell_type": "markdown",
      "metadata": {
        "id": "y_EPKFGB07ta"
      },
      "source": [
        "## Explore the Dataset"
      ]
    },
    {
      "cell_type": "code",
      "execution_count": null,
      "metadata": {
        "colab": {
          "base_uri": "https://localhost:8080/"
        },
        "id": "u8ro2yuD0SNW",
        "outputId": "ce09989d-822a-48c5-e08b-7b44a133867c"
      },
      "outputs": [
        {
          "name": "stdout",
          "output_type": "stream",
          "text": [
            "Comment: I just feel the need to say as someone diagnosed with Anorexia Nervosa I appreciate you Mat for bringing light to the dangers and science of them\n",
            "Sentiment: 2.0\n",
            "Comment: I'm so happy you guys are doing this! I'm a software developer and I absolutely love the videos you guys do. I'm really looking forward to the rest of this series!\n",
            "Sentiment: 2.0\n",
            "Comment: one of my favorite songs my old roommate/bestfriend and I would scream at the top of our lungs, drunk out of our minds.. ill miss you everyday oliver.. RIP\n",
            "Sentiment: 2.0\n",
            "Comment: El arco del maletín vacío fue devastador para los chicos.\n",
            "Sentiment: 1.0\n",
            "Comment: Hello Instr. Rachel. I thank you for your great and very good information you provide us for job interview that I really needed. I failed last time in job interview and I wanted to attend a course on it. Many thanks once again Instr. Rachel and all the best.\n",
            "Sentiment: 2.0\n"
          ]
        }
      ],
      "source": [
        "import random\n",
        "\n",
        "random_index = random.randint(0, len(df)-5)\n",
        "for i in df[['Comment', 'Sentiment']][random_index:random_index + 5].itertuples():\n",
        "  _, com, sent = i\n",
        "  print(f'Comment: {com}')\n",
        "  print(f'Sentiment: {sent}')"
      ]
    },
    {
      "cell_type": "code",
      "execution_count": null,
      "metadata": {
        "colab": {
          "base_uri": "https://localhost:8080/"
        },
        "id": "kT76kq_D0yRe",
        "outputId": "22e1a7be-5a9f-46d5-90d7-fb512e1f34a2"
      },
      "outputs": [
        {
          "data": {
            "text/plain": [
              "Video ID     0\n",
              "Comment      1\n",
              "Likes        0\n",
              "Sentiment    0\n",
              "dtype: int64"
            ]
          },
          "execution_count": 17,
          "metadata": {},
          "output_type": "execute_result"
        }
      ],
      "source": [
        "# Check if there is any Null data\n",
        "df.isnull().sum()"
      ]
    },
    {
      "cell_type": "code",
      "execution_count": null,
      "metadata": {
        "id": "biMux_g4320e"
      },
      "outputs": [],
      "source": [
        "# Drop Null data rows\n",
        "df.dropna(inplace=True)"
      ]
    },
    {
      "cell_type": "code",
      "execution_count": null,
      "metadata": {
        "id": "GnzSerQQoL1M"
      },
      "outputs": [],
      "source": [
        "# Split data into train and test sets\n",
        "X_train, X_test, y_train, y_test = train_test_split(df['Comment'].to_numpy(), df['Sentiment'].to_numpy(), test_size=0.2, random_state=42)"
      ]
    },
    {
      "cell_type": "code",
      "execution_count": null,
      "metadata": {
        "colab": {
          "base_uri": "https://localhost:8080/"
        },
        "id": "GD-uaeCKotvK",
        "outputId": "d7711f78-7c15-4a61-c85e-e7c5fbd8945f"
      },
      "outputs": [
        {
          "name": "stdout",
          "output_type": "stream",
          "text": [
            "\n",
            "Shape of X_train: (5610,)\n",
            "Shape of y_train: (5610,)\n",
            "Shape of X_test: (1403,)\n",
            "Shape of y_test: (1403,)\n",
            "\n"
          ]
        }
      ],
      "source": [
        "print(f\"\"\"\n",
        "Shape of X_train: {X_train.shape}\n",
        "Shape of y_train: {y_train.shape}\n",
        "Shape of X_test: {X_test.shape}\n",
        "Shape of y_test: {y_test.shape}\n",
        "\"\"\")"
      ]
    },
    {
      "cell_type": "code",
      "execution_count": null,
      "metadata": {
        "colab": {
          "base_uri": "https://localhost:8080/"
        },
        "id": "2SEr8dkFot4y",
        "outputId": "1eb142e3-3353-45d0-def4-da19075ab63c"
      },
      "outputs": [
        {
          "data": {
            "text/plain": [
              "array(['My opinion was always that Wyverns are a type/subspecies of dragon. Saying \"that\\'s not a dragon, that\\'s a wyvern\" is about as useful as saying \"that\\'s not a dog, that\\'s a border collie!\"',\n",
              "       'I just read that VR is actually beneficial for eyesight. It was an article about some new prescription glasses tech out of Japan that uses the same \"science\" with how VR headsets seem to improve nearsightedness or prevent at least it from worsening. \\n\\n.... As if I needed another reason to abandon my entire life for VR lol.',\n",
              "       'I think in the future the value of having the series x will grow exponentially, when you look at the number of studios Microsoft has been acquiring, and with fewer cross gen titles limiting Devs from using the full power of the next gen consoles.',\n",
              "       \"Back in 2018 when John Oliver did the episode on Corporate Consolidation it inspired me so much that I applied for a Masters of Research program, got into a program, and did my entire research thesis on tech oligopolies. It was shocking to see how bad it really is; oligopolies that bordered in monopolies are rampant. My research essentially focused on the question of whether lack of enforcement of our antitrust laws caused this whole problem or whether lack of adequate laws were the core of the issue. The answer was that it was truly both. I thoroughly enjoyed my pre-doctoral masters thesis and am considering a PhD in the future. It's so lovely to see John talk about this, specifically on the tech sector!\\n\\nEdit: Wow! Thanks everyone for the great comments! I haven't published it yet, otherwise I would share it with all you lovely people ❤ I am now looking for a policy or qualitative research/analyst job so if anyone is hiring, let me know 😅\",\n",
              "       \"I used to work at gamestop and I can say they didn't give us enough packing supplies to ship out orders\"],\n",
              "      dtype=object)"
            ]
          },
          "execution_count": 22,
          "metadata": {},
          "output_type": "execute_result"
        }
      ],
      "source": [
        "X_train[5:10]"
      ]
    },
    {
      "cell_type": "markdown",
      "metadata": {
        "id": "I8ltecmWsqDb"
      },
      "source": [
        "# Converting Text into Numbers"
      ]
    },
    {
      "cell_type": "markdown",
      "metadata": {
        "id": "VBYmeTPHw8ZK"
      },
      "source": [
        "## Text Vectorization (Tokenization)"
      ]
    },
    {
      "cell_type": "code",
      "execution_count": null,
      "metadata": {
        "id": "xb5Qi_x-9r59"
      },
      "outputs": [],
      "source": [
        "from tensorflow.keras.layers.experimental.preprocessing import  TextVectorization"
      ]
    },
    {
      "cell_type": "code",
      "execution_count": null,
      "metadata": {
        "id": "NBXGwvnf91nL"
      },
      "outputs": [],
      "source": [
        "# Find the mean of the words that are in sentences\n",
        "sum_of_words = 0\n",
        "for i in range(len(df.Comment)):\n",
        "  word_count = len(df['Comment'].iloc[i].split())\n",
        "  sum_of_words += word_count\n",
        "\n",
        "max_length = int(sum_of_words / len(df.Comment))"
      ]
    },
    {
      "cell_type": "code",
      "execution_count": null,
      "metadata": {
        "id": "dSWN_L0Pte1k"
      },
      "outputs": [],
      "source": [
        "# Create Text Vectorizer\n",
        "max_vocab_length = 20000\n",
        "\n",
        "text_vectorizer = TextVectorization(max_tokens=max_vocab_length,\n",
        "                                    output_mode='int',\n",
        "                                    output_sequence_length=max_length)"
      ]
    },
    {
      "cell_type": "code",
      "execution_count": null,
      "metadata": {
        "id": "LiriWS31uVWS"
      },
      "outputs": [],
      "source": [
        "# Fit the Vectorizer to train sentences\n",
        "text_vectorizer.adapt(X_train)"
      ]
    },
    {
      "cell_type": "code",
      "execution_count": null,
      "metadata": {
        "colab": {
          "base_uri": "https://localhost:8080/"
        },
        "id": "dDeVA8SlwI9t",
        "outputId": "06ea5719-89fa-444e-eae3-3199ad646343"
      },
      "outputs": [
        {
          "data": {
            "text/plain": [
              "(<tf.Tensor: shape=(1, 35), dtype=int64, numpy=\n",
              " array([[    2, 14641,   143,  8719,    55,   425,  6907,    32,     8,\n",
              "             2,   516,     7,    38,    32,     8,   634,    84,    10,\n",
              "            13,     5,  3856,    57, 18862,  1628,    12,     8,    60,\n",
              "            77,  5670,   486,     0,     0,     0,     0,     0]])>,\n",
              " 'The presenter here delivers his knowledge succinctly. He IS the example of what he is teaching. Thank you for a concise,  no extraneous lesson.  It is has been immensely helpful.')"
            ]
          },
          "execution_count": 27,
          "metadata": {},
          "output_type": "execute_result"
        }
      ],
      "source": [
        "sample_sentence = random.choice(X_train)\n",
        "text_vectorizer([sample_sentence]), sample_sentence"
      ]
    },
    {
      "cell_type": "code",
      "execution_count": null,
      "metadata": {
        "colab": {
          "base_uri": "https://localhost:8080/"
        },
        "id": "YstX_VC0waWj",
        "outputId": "791b748d-694d-4c30-e4ce-9e200a8f301c"
      },
      "outputs": [
        {
          "name": "stdout",
          "output_type": "stream",
          "text": [
            "\n",
            "Number of words in the vocab: 20000\n",
            "Top 5 Words: ['', '[UNK]', 'the', 'to', 'and']\n",
            "Last 5 Words: ['cud', 'cubs', 'cubastic', 'cuarta', 'cuanto']\n",
            "\n"
          ]
        }
      ],
      "source": [
        "# Get the unique words in the vocabulary\n",
        "\n",
        "words_in_vocab = text_vectorizer.get_vocabulary()\n",
        "top_5_words = words_in_vocab[:5]\n",
        "bottom_5_words = words_in_vocab[-5:]\n",
        "\n",
        "print(f\"\"\"\n",
        "Number of words in the vocab: {len(words_in_vocab)}\n",
        "Top 5 Words: {top_5_words}\n",
        "Last 5 Words: {bottom_5_words}\n",
        "\"\"\")"
      ]
    },
    {
      "cell_type": "markdown",
      "metadata": {
        "id": "q9Z8pdGgw5Z0"
      },
      "source": [
        "## Embedding"
      ]
    },
    {
      "cell_type": "code",
      "execution_count": null,
      "metadata": {
        "colab": {
          "base_uri": "https://localhost:8080/"
        },
        "id": "09i7-PrCw0BC",
        "outputId": "663163d7-0aec-46ae-df29-61717f29618f"
      },
      "outputs": [
        {
          "data": {
            "text/plain": [
              "<keras.layers.core.embedding.Embedding at 0x7f375e5fb970>"
            ]
          },
          "execution_count": 29,
          "metadata": {},
          "output_type": "execute_result"
        }
      ],
      "source": [
        "from tensorflow.keras import layers\n",
        "\n",
        "# Creating an Embedding layer\n",
        "embedding = layers.Embedding(input_dim=max_vocab_length,\n",
        "                             output_dim=128,\n",
        "                             input_length=max_length)\n",
        "\n",
        "embedding"
      ]
    },
    {
      "cell_type": "code",
      "execution_count": null,
      "metadata": {
        "colab": {
          "base_uri": "https://localhost:8080/"
        },
        "id": "G74A7mQEzw8x",
        "outputId": "2c8f6f8d-4ac6-42b0-baa9-73b5cee19381"
      },
      "outputs": [
        {
          "data": {
            "text/plain": [
              "<tf.Tensor: shape=(1, 35, 128), dtype=float32, numpy=\n",
              "array([[[-3.1694114e-02, -3.0249238e-02, -1.7152868e-02, ...,\n",
              "          4.7093902e-02,  3.6030602e-02, -9.4115734e-05],\n",
              "        [ 2.0925168e-02, -1.4087401e-02,  3.4703944e-02, ...,\n",
              "          3.3781875e-02,  1.3396274e-02, -2.3496523e-03],\n",
              "        [ 2.1773700e-02,  1.4958572e-02, -4.2117834e-03, ...,\n",
              "         -3.1957999e-03,  3.5582613e-02, -2.5102282e-02],\n",
              "        ...,\n",
              "        [ 1.4040340e-02,  9.8085180e-03,  4.2885531e-02, ...,\n",
              "         -4.0745091e-02, -1.1156619e-02, -1.9194020e-02],\n",
              "        [ 1.4040340e-02,  9.8085180e-03,  4.2885531e-02, ...,\n",
              "         -4.0745091e-02, -1.1156619e-02, -1.9194020e-02],\n",
              "        [ 1.4040340e-02,  9.8085180e-03,  4.2885531e-02, ...,\n",
              "         -4.0745091e-02, -1.1156619e-02, -1.9194020e-02]]], dtype=float32)>"
            ]
          },
          "execution_count": 30,
          "metadata": {},
          "output_type": "execute_result"
        }
      ],
      "source": [
        "# Try embeeding layer with on sample sentence\n",
        "sample_embed = embedding(text_vectorizer([sample_sentence]))\n",
        "sample_embed"
      ]
    },
    {
      "cell_type": "markdown",
      "metadata": {
        "id": "Zc9U20D35oyP"
      },
      "source": [
        "# Model"
      ]
    },
    {
      "cell_type": "markdown",
      "metadata": {
        "id": "YRXkSwhf5sKv"
      },
      "source": [
        "## Model 0: Naive Bayes Base Model"
      ]
    },
    {
      "cell_type": "code",
      "execution_count": null,
      "metadata": {
        "id": "q612HTrz0CgQ"
      },
      "outputs": [],
      "source": [
        "from sklearn.feature_extraction.text import TfidfVectorizer\n",
        "from sklearn.naive_bayes import MultinomialNB\n",
        "from sklearn.pipeline import Pipeline"
      ]
    },
    {
      "cell_type": "code",
      "execution_count": null,
      "metadata": {
        "colab": {
          "base_uri": "https://localhost:8080/",
          "height": 126
        },
        "id": "1dMrmZG75n1P",
        "outputId": "19ef421e-2b8e-4ada-e7a1-f4d2902e0426"
      },
      "outputs": [
        {
          "data": {
            "text/html": [
              "<style>#sk-container-id-1 {color: black;background-color: white;}#sk-container-id-1 pre{padding: 0;}#sk-container-id-1 div.sk-toggleable {background-color: white;}#sk-container-id-1 label.sk-toggleable__label {cursor: pointer;display: block;width: 100%;margin-bottom: 0;padding: 0.3em;box-sizing: border-box;text-align: center;}#sk-container-id-1 label.sk-toggleable__label-arrow:before {content: \"▸\";float: left;margin-right: 0.25em;color: #696969;}#sk-container-id-1 label.sk-toggleable__label-arrow:hover:before {color: black;}#sk-container-id-1 div.sk-estimator:hover label.sk-toggleable__label-arrow:before {color: black;}#sk-container-id-1 div.sk-toggleable__content {max-height: 0;max-width: 0;overflow: hidden;text-align: left;background-color: #f0f8ff;}#sk-container-id-1 div.sk-toggleable__content pre {margin: 0.2em;color: black;border-radius: 0.25em;background-color: #f0f8ff;}#sk-container-id-1 input.sk-toggleable__control:checked~div.sk-toggleable__content {max-height: 200px;max-width: 100%;overflow: auto;}#sk-container-id-1 input.sk-toggleable__control:checked~label.sk-toggleable__label-arrow:before {content: \"▾\";}#sk-container-id-1 div.sk-estimator input.sk-toggleable__control:checked~label.sk-toggleable__label {background-color: #d4ebff;}#sk-container-id-1 div.sk-label input.sk-toggleable__control:checked~label.sk-toggleable__label {background-color: #d4ebff;}#sk-container-id-1 input.sk-hidden--visually {border: 0;clip: rect(1px 1px 1px 1px);clip: rect(1px, 1px, 1px, 1px);height: 1px;margin: -1px;overflow: hidden;padding: 0;position: absolute;width: 1px;}#sk-container-id-1 div.sk-estimator {font-family: monospace;background-color: #f0f8ff;border: 1px dotted black;border-radius: 0.25em;box-sizing: border-box;margin-bottom: 0.5em;}#sk-container-id-1 div.sk-estimator:hover {background-color: #d4ebff;}#sk-container-id-1 div.sk-parallel-item::after {content: \"\";width: 100%;border-bottom: 1px solid gray;flex-grow: 1;}#sk-container-id-1 div.sk-label:hover label.sk-toggleable__label {background-color: #d4ebff;}#sk-container-id-1 div.sk-serial::before {content: \"\";position: absolute;border-left: 1px solid gray;box-sizing: border-box;top: 0;bottom: 0;left: 50%;z-index: 0;}#sk-container-id-1 div.sk-serial {display: flex;flex-direction: column;align-items: center;background-color: white;padding-right: 0.2em;padding-left: 0.2em;position: relative;}#sk-container-id-1 div.sk-item {position: relative;z-index: 1;}#sk-container-id-1 div.sk-parallel {display: flex;align-items: stretch;justify-content: center;background-color: white;position: relative;}#sk-container-id-1 div.sk-item::before, #sk-container-id-1 div.sk-parallel-item::before {content: \"\";position: absolute;border-left: 1px solid gray;box-sizing: border-box;top: 0;bottom: 0;left: 50%;z-index: -1;}#sk-container-id-1 div.sk-parallel-item {display: flex;flex-direction: column;z-index: 1;position: relative;background-color: white;}#sk-container-id-1 div.sk-parallel-item:first-child::after {align-self: flex-end;width: 50%;}#sk-container-id-1 div.sk-parallel-item:last-child::after {align-self: flex-start;width: 50%;}#sk-container-id-1 div.sk-parallel-item:only-child::after {width: 0;}#sk-container-id-1 div.sk-dashed-wrapped {border: 1px dashed gray;margin: 0 0.4em 0.5em 0.4em;box-sizing: border-box;padding-bottom: 0.4em;background-color: white;}#sk-container-id-1 div.sk-label label {font-family: monospace;font-weight: bold;display: inline-block;line-height: 1.2em;}#sk-container-id-1 div.sk-label-container {text-align: center;}#sk-container-id-1 div.sk-container {/* jupyter's `normalize.less` sets `[hidden] { display: none; }` but bootstrap.min.css set `[hidden] { display: none !important; }` so we also need the `!important` here to be able to override the default hidden behavior on the sphinx rendered scikit-learn.org. See: https://github.com/scikit-learn/scikit-learn/issues/21755 */display: inline-block !important;position: relative;}#sk-container-id-1 div.sk-text-repr-fallback {display: none;}</style><div id=\"sk-container-id-1\" class=\"sk-top-container\"><div class=\"sk-text-repr-fallback\"><pre>Pipeline(steps=[(&#x27;tfid&#x27;, TfidfVectorizer()), (&#x27;clf&#x27;, MultinomialNB())])</pre><b>In a Jupyter environment, please rerun this cell to show the HTML representation or trust the notebook. <br />On GitHub, the HTML representation is unable to render, please try loading this page with nbviewer.org.</b></div><div class=\"sk-container\" hidden><div class=\"sk-item sk-dashed-wrapped\"><div class=\"sk-label-container\"><div class=\"sk-label sk-toggleable\"><input class=\"sk-toggleable__control sk-hidden--visually\" id=\"sk-estimator-id-1\" type=\"checkbox\" ><label for=\"sk-estimator-id-1\" class=\"sk-toggleable__label sk-toggleable__label-arrow\">Pipeline</label><div class=\"sk-toggleable__content\"><pre>Pipeline(steps=[(&#x27;tfid&#x27;, TfidfVectorizer()), (&#x27;clf&#x27;, MultinomialNB())])</pre></div></div></div><div class=\"sk-serial\"><div class=\"sk-item\"><div class=\"sk-estimator sk-toggleable\"><input class=\"sk-toggleable__control sk-hidden--visually\" id=\"sk-estimator-id-2\" type=\"checkbox\" ><label for=\"sk-estimator-id-2\" class=\"sk-toggleable__label sk-toggleable__label-arrow\">TfidfVectorizer</label><div class=\"sk-toggleable__content\"><pre>TfidfVectorizer()</pre></div></div></div><div class=\"sk-item\"><div class=\"sk-estimator sk-toggleable\"><input class=\"sk-toggleable__control sk-hidden--visually\" id=\"sk-estimator-id-3\" type=\"checkbox\" ><label for=\"sk-estimator-id-3\" class=\"sk-toggleable__label sk-toggleable__label-arrow\">MultinomialNB</label><div class=\"sk-toggleable__content\"><pre>MultinomialNB()</pre></div></div></div></div></div></div></div>"
            ],
            "text/plain": [
              "Pipeline(steps=[('tfid', TfidfVectorizer()), ('clf', MultinomialNB())])"
            ]
          },
          "execution_count": 32,
          "metadata": {},
          "output_type": "execute_result"
        }
      ],
      "source": [
        "model_0 = Pipeline([('tfid', TfidfVectorizer()), # convert text into numbers\n",
        "                    ('clf', MultinomialNB())]) # Model the text\n",
        "\n",
        "# Fit the pipeline to training data\n",
        "model_0.fit(X_train, y_train)"
      ]
    },
    {
      "cell_type": "code",
      "execution_count": null,
      "metadata": {
        "colab": {
          "base_uri": "https://localhost:8080/"
        },
        "id": "fpeP0pzj6g3g",
        "outputId": "1d380aa9-d4a3-4c9d-e4e8-9b71fe22dc40"
      },
      "outputs": [
        {
          "data": {
            "text/plain": [
              "array([0., 2., 1., 0., 0., 0., 0., 2., 2., 2.])"
            ]
          },
          "execution_count": 33,
          "metadata": {},
          "output_type": "execute_result"
        }
      ],
      "source": [
        "baseline_preds = model_0.predict(X_test)\n",
        "baseline_preds[:10]"
      ]
    },
    {
      "cell_type": "code",
      "execution_count": null,
      "metadata": {
        "colab": {
          "base_uri": "https://localhost:8080/"
        },
        "id": "uKtBSUSR6rav",
        "outputId": "a85b9044-2e30-40f2-a49d-9ad8d8b3e34b"
      },
      "outputs": [
        {
          "data": {
            "text/plain": [
              "array([1., 2., 1., 1., 0., 0., 0., 1., 2., 1.])"
            ]
          },
          "execution_count": 34,
          "metadata": {},
          "output_type": "execute_result"
        }
      ],
      "source": [
        "y_test[:10]"
      ]
    },
    {
      "cell_type": "code",
      "execution_count": null,
      "metadata": {
        "id": "fXmAm6lB6tmf"
      },
      "outputs": [],
      "source": [
        "# Function to evaluate: Accuracy, precision, recall, f1-score\n",
        "\n",
        "from sklearn.metrics import accuracy_score, precision_recall_fscore_support\n",
        "\n",
        "def calculate_results(y_true, y_pred):\n",
        "  \"\"\"\n",
        "  Calculates model accuracy, precision, recall, f1 score of a binary classification model\n",
        "  \"\"\"\n",
        "\n",
        "  # calculate model accuracy\n",
        "  model_accuracy = accuracy_score(y_true, y_pred) * 100\n",
        "\n",
        "  # calcualte model precision, recall and f1-score using \"weighted\" average\n",
        "  model_precision, model_recall, model_f1, _ = precision_recall_fscore_support(y_true, y_pred, average='weighted')\n",
        "  model_results = {\"accuracy\": model_accuracy,\n",
        "                   \"precision\": model_precision,\n",
        "                   \"recall\": model_recall,\n",
        "                   \"f1\": model_f1}\n",
        "\n",
        "  return model_results"
      ]
    },
    {
      "cell_type": "code",
      "execution_count": null,
      "metadata": {
        "colab": {
          "base_uri": "https://localhost:8080/"
        },
        "id": "iSxofb1y6zSH",
        "outputId": "daa13ed5-e23f-42ed-e308-26d651ef1792"
      },
      "outputs": [
        {
          "data": {
            "text/plain": [
              "{'accuracy': 64.78973627940128,\n",
              " 'precision': 0.6971595722405731,\n",
              " 'recall': 0.6478973627940128,\n",
              " 'f1': 0.6255995420698697}"
            ]
          },
          "execution_count": 36,
          "metadata": {},
          "output_type": "execute_result"
        }
      ],
      "source": [
        "# Get baseline results \n",
        "\n",
        "baseline_results = calculate_results(y_true=y_test, y_pred=baseline_preds)\n",
        "baseline_results"
      ]
    },
    {
      "cell_type": "markdown",
      "metadata": {
        "id": "MTyighGW7Db-"
      },
      "source": [
        "## Model 1: RNN Model"
      ]
    },
    {
      "cell_type": "code",
      "execution_count": null,
      "metadata": {
        "id": "CcZyS8H3650A"
      },
      "outputs": [],
      "source": [
        "# Create a RNN Model using functional API\n",
        "inputs = layers.Input(shape=(1), dtype='string')\n",
        "x = text_vectorizer(inputs)\n",
        "x = embedding(x)\n",
        "x = layers.LSTM(64, return_sequences=True)(x)\n",
        "x = layers.LSTM(64)(x)\n",
        "x = layers.Dense(32, activation='relu')(x)\n",
        "outputs = layers.Dense(3, activation='softmax')(x)\n",
        "model_1 = tensorflow.keras.Model(inputs, outputs, name='Model_1_LSTM')"
      ]
    },
    {
      "cell_type": "code",
      "execution_count": null,
      "metadata": {
        "colab": {
          "base_uri": "https://localhost:8080/"
        },
        "id": "X7s-A49T8I5R",
        "outputId": "198d1c24-3aa1-4b60-8ea7-798854d06558"
      },
      "outputs": [
        {
          "name": "stdout",
          "output_type": "stream",
          "text": [
            "Model: \"Model_1_LSTM\"\n",
            "_________________________________________________________________\n",
            " Layer (type)                Output Shape              Param #   \n",
            "=================================================================\n",
            " input_1 (InputLayer)        [(None, 1)]               0         \n",
            "                                                                 \n",
            " text_vectorization (TextVec  (None, 35)               0         \n",
            " torization)                                                     \n",
            "                                                                 \n",
            " embedding (Embedding)       (None, 35, 128)           2560000   \n",
            "                                                                 \n",
            " lstm (LSTM)                 (None, 35, 64)            49408     \n",
            "                                                                 \n",
            " lstm_1 (LSTM)               (None, 64)                33024     \n",
            "                                                                 \n",
            " dense (Dense)               (None, 32)                2080      \n",
            "                                                                 \n",
            " dense_1 (Dense)             (None, 3)                 99        \n",
            "                                                                 \n",
            "=================================================================\n",
            "Total params: 2,644,611\n",
            "Trainable params: 2,644,611\n",
            "Non-trainable params: 0\n",
            "_________________________________________________________________\n"
          ]
        }
      ],
      "source": [
        "# Check out model summary\n",
        "model_1.summary()"
      ]
    },
    {
      "cell_type": "code",
      "execution_count": null,
      "metadata": {
        "id": "YbQSz6O08Prw"
      },
      "outputs": [],
      "source": [
        "# Compile the model\n",
        "model_1.compile(loss='sparse_categorical_crossentropy',\n",
        "                optimizer=tensorflow.keras.optimizers.Adam(),\n",
        "                metrics=['accuracy'])"
      ]
    },
    {
      "cell_type": "code",
      "execution_count": null,
      "metadata": {
        "colab": {
          "base_uri": "https://localhost:8080/"
        },
        "id": "N6B-8GjgC1lV",
        "outputId": "c93aa56d-e8b2-4b0c-b1d6-7e3cabbd881c"
      },
      "outputs": [
        {
          "name": "stdout",
          "output_type": "stream",
          "text": [
            "Epoch 1/5\n",
            "176/176 [==============================] - 13s 57ms/step - loss: 0.9927 - accuracy: 0.4939\n",
            "Epoch 2/5\n",
            "176/176 [==============================] - 10s 58ms/step - loss: 0.6472 - accuracy: 0.7296\n",
            "Epoch 3/5\n",
            "176/176 [==============================] - 9s 52ms/step - loss: 0.3356 - accuracy: 0.8800\n",
            "Epoch 4/5\n",
            "176/176 [==============================] - 10s 57ms/step - loss: 0.1629 - accuracy: 0.9460\n",
            "Epoch 5/5\n",
            "176/176 [==============================] - 11s 60ms/step - loss: 0.1086 - accuracy: 0.9670\n"
          ]
        },
        {
          "data": {
            "text/plain": [
              "<keras.callbacks.History at 0x7f375ddee580>"
            ]
          },
          "execution_count": 40,
          "metadata": {},
          "output_type": "execute_result"
        }
      ],
      "source": [
        "# Train the model\n",
        "model_1.fit(X_train, y_train, epochs=5)"
      ]
    },
    {
      "cell_type": "code",
      "execution_count": null,
      "metadata": {
        "colab": {
          "base_uri": "https://localhost:8080/"
        },
        "id": "ThQWBQbJDGX2",
        "outputId": "d94bddf2-81d9-4ee1-dc1a-b4c04868bf2e"
      },
      "outputs": [
        {
          "name": "stdout",
          "output_type": "stream",
          "text": [
            "44/44 [==============================] - 1s 11ms/step\n"
          ]
        },
        {
          "data": {
            "text/plain": [
              "array([[4.4008824e-01, 5.1466697e-01, 4.5244716e-02],\n",
              "       [6.8991113e-04, 2.3097274e-04, 9.9907917e-01],\n",
              "       [1.2139478e-04, 9.9967545e-01, 2.0324276e-04],\n",
              "       [9.4756806e-01, 4.3657593e-02, 8.7743513e-03],\n",
              "       [1.3915162e-01, 8.3685935e-01, 2.3988990e-02]], dtype=float32)"
            ]
          },
          "execution_count": 41,
          "metadata": {},
          "output_type": "execute_result"
        }
      ],
      "source": [
        "# Make predictions with the model\n",
        "model_1_preds_probs = model_1.predict(X_test)\n",
        "model_1_preds_probs[:5]"
      ]
    },
    {
      "cell_type": "code",
      "execution_count": null,
      "metadata": {
        "colab": {
          "base_uri": "https://localhost:8080/"
        },
        "id": "fP_FDsb_ONID",
        "outputId": "ffbf88d4-b2bf-4b7b-afec-022d8f8d0cfd"
      },
      "outputs": [
        {
          "data": {
            "text/plain": [
              "array([1, 2, 1, 0, 1])"
            ]
          },
          "execution_count": 42,
          "metadata": {},
          "output_type": "execute_result"
        }
      ],
      "source": [
        "model_1_preds = np.argmax(model_1_preds_probs, axis=1)\n",
        "model_1_preds[:5]"
      ]
    },
    {
      "cell_type": "code",
      "execution_count": null,
      "metadata": {
        "colab": {
          "base_uri": "https://localhost:8080/"
        },
        "id": "0nguC7i_Olvz",
        "outputId": "713382be-499f-4abd-95b8-7acce9c0cb72"
      },
      "outputs": [
        {
          "data": {
            "text/plain": [
              "{'accuracy': 64.36208125445474,\n",
              " 'precision': 0.6658681183766086,\n",
              " 'recall': 0.6436208125445474,\n",
              " 'f1': 0.6463428026502837}"
            ]
          },
          "execution_count": 43,
          "metadata": {},
          "output_type": "execute_result"
        }
      ],
      "source": [
        "# Check out model performance\n",
        "model_1_performance = calculate_results(y_true=y_test, y_pred=model_1_preds)\n",
        "model_1_performance"
      ]
    },
    {
      "cell_type": "markdown",
      "metadata": {
        "id": "1b7q7ozjPFr_"
      },
      "source": [
        "## Model 2: 1D CNN Model"
      ]
    },
    {
      "cell_type": "code",
      "execution_count": null,
      "metadata": {
        "id": "5AbXlw03O95C"
      },
      "outputs": [],
      "source": [
        "import tensorflow as tf\n",
        "from tensorflow.keras import layers"
      ]
    },
    {
      "cell_type": "code",
      "execution_count": null,
      "metadata": {
        "id": "j_atn1njPQaL"
      },
      "outputs": [],
      "source": [
        "# Create 1D CNN Model\n",
        "inputs = layers.Input(shape=(1,), dtype='string')\n",
        "x = text_vectorizer(inputs)\n",
        "x = embedding(x)\n",
        "x = layers.Conv1D(filters=64, kernel_size=5, padding='valid', activation='relu')(x)\n",
        "x = layers.GlobalMaxPool1D()(x)\n",
        "outputs = layers.Dense(3, activation='softmax')(x)\n",
        "model_2 = tf.keras.Model(inputs, outputs, name='Model_2')\n",
        "\n",
        "# Compile the model\n",
        "model_2.compile(loss='sparse_categorical_crossentropy',\n",
        "                optimizer=tf.keras.optimizers.Adam(),\n",
        "                metrics=['accuracy'])"
      ]
    },
    {
      "cell_type": "code",
      "execution_count": null,
      "metadata": {
        "colab": {
          "base_uri": "https://localhost:8080/"
        },
        "id": "mH8LpT74QHay",
        "outputId": "cb46eef1-3408-459f-e3f7-c7527148cd8b"
      },
      "outputs": [
        {
          "name": "stdout",
          "output_type": "stream",
          "text": [
            "Epoch 1/5\n",
            "176/176 [==============================] - 6s 29ms/step - loss: 0.4207 - accuracy: 0.9166\n",
            "Epoch 2/5\n",
            "176/176 [==============================] - 7s 37ms/step - loss: 0.0925 - accuracy: 0.9806\n",
            "Epoch 3/5\n",
            "176/176 [==============================] - 4s 25ms/step - loss: 0.0257 - accuracy: 0.9968\n",
            "Epoch 4/5\n",
            "176/176 [==============================] - 6s 32ms/step - loss: 0.0096 - accuracy: 0.9989\n",
            "Epoch 5/5\n",
            "176/176 [==============================] - 5s 26ms/step - loss: 0.0050 - accuracy: 0.9996\n"
          ]
        },
        {
          "data": {
            "text/plain": [
              "<keras.callbacks.History at 0x7f374a697ee0>"
            ]
          },
          "execution_count": 46,
          "metadata": {},
          "output_type": "execute_result"
        }
      ],
      "source": [
        "# Train the model\n",
        "model_2.fit(X_train, y_train, epochs=5)"
      ]
    },
    {
      "cell_type": "code",
      "execution_count": null,
      "metadata": {
        "colab": {
          "base_uri": "https://localhost:8080/"
        },
        "id": "vPbt9IPQQQv6",
        "outputId": "02c0b99d-8576-4cd4-b9e3-7de668656fdb"
      },
      "outputs": [
        {
          "name": "stdout",
          "output_type": "stream",
          "text": [
            "44/44 [==============================] - 0s 3ms/step\n"
          ]
        },
        {
          "data": {
            "text/plain": [
              "array([[1.4835057e-01, 3.4087211e-01, 5.1077729e-01],\n",
              "       [6.7568799e-05, 2.6302209e-06, 9.9992973e-01],\n",
              "       [1.6656165e-07, 9.9999827e-01, 1.5408864e-06],\n",
              "       [9.9950975e-01, 4.8229645e-04, 7.9533847e-06],\n",
              "       [2.2307365e-01, 7.7510214e-01, 1.8242629e-03]], dtype=float32)"
            ]
          },
          "execution_count": 47,
          "metadata": {},
          "output_type": "execute_result"
        }
      ],
      "source": [
        "# Make predictions\n",
        "model_2_preds_probs = model_2.predict(X_test)\n",
        "model_2_preds_probs[:5]"
      ]
    },
    {
      "cell_type": "code",
      "execution_count": null,
      "metadata": {
        "colab": {
          "base_uri": "https://localhost:8080/"
        },
        "id": "e9H2ZEQeQXrY",
        "outputId": "3abd4f34-a964-44be-b106-9ae12829b3a3"
      },
      "outputs": [
        {
          "data": {
            "text/plain": [
              "array([2, 2, 1, 0, 1])"
            ]
          },
          "execution_count": 48,
          "metadata": {},
          "output_type": "execute_result"
        }
      ],
      "source": [
        "model_2_preds = np.argmax(model_2_preds_probs, axis=1)\n",
        "model_2_preds[:5]"
      ]
    },
    {
      "cell_type": "code",
      "execution_count": null,
      "metadata": {
        "colab": {
          "base_uri": "https://localhost:8080/"
        },
        "id": "iuTDQJLpQXul",
        "outputId": "7f6ad44b-c8c2-4c1e-b48e-1cc669396f6c"
      },
      "outputs": [
        {
          "data": {
            "text/plain": [
              "{'accuracy': 63.150392017106206,\n",
              " 'precision': 0.6315952683822929,\n",
              " 'recall': 0.631503920171062,\n",
              " 'f1': 0.6312529796022174}"
            ]
          },
          "execution_count": 49,
          "metadata": {},
          "output_type": "execute_result"
        }
      ],
      "source": [
        "# Check out model performance\n",
        "model_2_performance = calculate_results(y_true=y_test, y_pred=model_2_preds)\n",
        "model_2_performance"
      ]
    },
    {
      "cell_type": "markdown",
      "metadata": {
        "id": "pb9jM-VsQsDm"
      },
      "source": [
        "## Model 3: Transfer Learning"
      ]
    },
    {
      "cell_type": "code",
      "execution_count": null,
      "metadata": {
        "colab": {
          "base_uri": "https://localhost:8080/"
        },
        "id": "PIDD-HebQmFx",
        "outputId": "ae4aba19-274c-4208-9b57-394050b78eb7"
      },
      "outputs": [
        {
          "data": {
            "text/plain": [
              "(TensorShape([1, 512]),\n",
              " 'The presenter here delivers his knowledge succinctly. He IS the example of what he is teaching. Thank you for a concise,  no extraneous lesson.  It is has been immensely helpful.')"
            ]
          },
          "execution_count": 50,
          "metadata": {},
          "output_type": "execute_result"
        }
      ],
      "source": [
        "import tensorflow_hub as hub\n",
        "# Check out pre-trained model\n",
        "embed = hub.load(\"https://tfhub.dev/google/universal-sentence-encoder/4\")\n",
        "\n",
        "embed_samples = embed([sample_sentence])\n",
        "embed_samples.shape, sample_sentence"
      ]
    },
    {
      "cell_type": "code",
      "execution_count": null,
      "metadata": {
        "id": "h5YUz_YJe5DV"
      },
      "outputs": [],
      "source": [
        "# Create a layer using pre-trained model\n",
        "sentence_encoder_layer = hub.KerasLayer(\"https://tfhub.dev/google/universal-sentence-encoder/4\", input_shape=[], dtype='string', trainable=False)"
      ]
    },
    {
      "cell_type": "code",
      "execution_count": null,
      "metadata": {
        "id": "na0GyW2ai9N8"
      },
      "outputs": [],
      "source": [
        "# Create Transfer Learning Model using Sequential API\n",
        "model_3 = tf.keras.Sequential([\n",
        "    sentence_encoder_layer,\n",
        "    layers.Dense(32, activation='relu'),\n",
        "    layers.Dense(3, activation='softmax')\n",
        "])\n",
        "\n",
        "# Compile the model\n",
        "model_3.compile(loss='sparse_categorical_crossentropy',\n",
        "                optimizer=tf.keras.optimizers.Adam(),\n",
        "                metrics=['accuracy'])"
      ]
    },
    {
      "cell_type": "code",
      "execution_count": null,
      "metadata": {
        "colab": {
          "base_uri": "https://localhost:8080/"
        },
        "id": "ehIbIesfjodZ",
        "outputId": "ce58246c-2500-4efe-d109-efd36dfe94ed"
      },
      "outputs": [
        {
          "name": "stdout",
          "output_type": "stream",
          "text": [
            "Model: \"sequential\"\n",
            "_________________________________________________________________\n",
            " Layer (type)                Output Shape              Param #   \n",
            "=================================================================\n",
            " keras_layer (KerasLayer)    (None, 512)               256797824 \n",
            "                                                                 \n",
            " dense_3 (Dense)             (None, 32)                16416     \n",
            "                                                                 \n",
            " dense_4 (Dense)             (None, 3)                 99        \n",
            "                                                                 \n",
            "=================================================================\n",
            "Total params: 256,814,339\n",
            "Trainable params: 16,515\n",
            "Non-trainable params: 256,797,824\n",
            "_________________________________________________________________\n"
          ]
        }
      ],
      "source": [
        "# check out Model_3 summary\n",
        "model_3.summary()"
      ]
    },
    {
      "cell_type": "code",
      "execution_count": null,
      "metadata": {
        "colab": {
          "base_uri": "https://localhost:8080/"
        },
        "id": "r-FAe5h8jqdt",
        "outputId": "13c406af-6a2c-4d52-f4a4-ff22e1cffcc3"
      },
      "outputs": [
        {
          "name": "stdout",
          "output_type": "stream",
          "text": [
            "Epoch 1/10\n",
            "176/176 [==============================] - 6s 13ms/step - loss: 0.8933 - accuracy: 0.6519\n",
            "Epoch 2/10\n",
            "176/176 [==============================] - 2s 12ms/step - loss: 0.6452 - accuracy: 0.7357\n",
            "Epoch 3/10\n",
            "176/176 [==============================] - 2s 12ms/step - loss: 0.5891 - accuracy: 0.7551\n",
            "Epoch 4/10\n",
            "176/176 [==============================] - 2s 12ms/step - loss: 0.5670 - accuracy: 0.7626\n",
            "Epoch 5/10\n",
            "176/176 [==============================] - 2s 12ms/step - loss: 0.5551 - accuracy: 0.7615\n",
            "Epoch 6/10\n",
            "176/176 [==============================] - 3s 18ms/step - loss: 0.5454 - accuracy: 0.7670\n",
            "Epoch 7/10\n",
            "176/176 [==============================] - 2s 12ms/step - loss: 0.5388 - accuracy: 0.7731\n",
            "Epoch 8/10\n",
            "176/176 [==============================] - 2s 12ms/step - loss: 0.5315 - accuracy: 0.7799\n",
            "Epoch 9/10\n",
            "176/176 [==============================] - 2s 12ms/step - loss: 0.5260 - accuracy: 0.7802\n",
            "Epoch 10/10\n",
            "176/176 [==============================] - 2s 12ms/step - loss: 0.5215 - accuracy: 0.7856\n"
          ]
        },
        {
          "data": {
            "text/plain": [
              "<keras.callbacks.History at 0x7f37499925b0>"
            ]
          },
          "execution_count": 54,
          "metadata": {},
          "output_type": "execute_result"
        }
      ],
      "source": [
        "# Train model_3\n",
        "model_3.fit(X_train, y_train, epochs=10)"
      ]
    },
    {
      "cell_type": "code",
      "execution_count": null,
      "metadata": {
        "colab": {
          "base_uri": "https://localhost:8080/"
        },
        "id": "E20aFJiMj660",
        "outputId": "3b1b92c2-b73d-4193-f94c-fbd89f29bff3"
      },
      "outputs": [
        {
          "name": "stdout",
          "output_type": "stream",
          "text": [
            "44/44 [==============================] - 1s 12ms/step\n"
          ]
        },
        {
          "data": {
            "text/plain": [
              "array([[6.3429201e-01, 2.9435071e-01, 7.1357206e-02],\n",
              "       [8.0430385e-04, 1.9390250e-02, 9.7980535e-01],\n",
              "       [5.7653314e-03, 4.8438558e-01, 5.0984907e-01],\n",
              "       [9.2982465e-01, 6.4923592e-02, 5.2517457e-03],\n",
              "       [9.6043366e-01, 3.8506579e-02, 1.0597893e-03]], dtype=float32)"
            ]
          },
          "execution_count": 55,
          "metadata": {},
          "output_type": "execute_result"
        }
      ],
      "source": [
        "# Make predictions with model_3\n",
        "model_3_preds_probs = model_3.predict(X_test)\n",
        "model_3_preds_probs[:5]"
      ]
    },
    {
      "cell_type": "code",
      "execution_count": null,
      "metadata": {
        "colab": {
          "base_uri": "https://localhost:8080/"
        },
        "id": "xTUZcG1ZkO-T",
        "outputId": "52c0d00a-fbe7-4379-b4cc-c346bde7f6cf"
      },
      "outputs": [
        {
          "data": {
            "text/plain": [
              "array([0, 2, 2, 0, 0])"
            ]
          },
          "execution_count": 56,
          "metadata": {},
          "output_type": "execute_result"
        }
      ],
      "source": [
        "model_3_preds = np.argmax(model_3_preds_probs, axis=1)\n",
        "model_3_preds[:5]"
      ]
    },
    {
      "cell_type": "code",
      "execution_count": null,
      "metadata": {
        "colab": {
          "base_uri": "https://localhost:8080/"
        },
        "id": "3xDUVIAzkRsa",
        "outputId": "7a5ab3e5-f808-4551-f72f-1dce6c668326"
      },
      "outputs": [
        {
          "data": {
            "text/plain": [
              "{'accuracy': 74.5545260156807,\n",
              " 'precision': 0.7480392334332548,\n",
              " 'recall': 0.7455452601568069,\n",
              " 'f1': 0.745448091371831}"
            ]
          },
          "execution_count": 57,
          "metadata": {},
          "output_type": "execute_result"
        }
      ],
      "source": [
        "# Check out model performance\n",
        "model_3_performance = calculate_results(y_true=y_test, y_pred=model_3_preds)\n",
        "model_3_performance"
      ]
    },
    {
      "cell_type": "code",
      "execution_count": null,
      "metadata": {
        "colab": {
          "base_uri": "https://localhost:8080/"
        },
        "id": "QcbE5RZekwXX",
        "outputId": "55e15174-6d65-4cfb-c962-6725cc4115df"
      },
      "outputs": [
        {
          "name": "stdout",
          "output_type": "stream",
          "text": [
            "1/1 [==============================] - 1s 587ms/step\n"
          ]
        },
        {
          "data": {
            "text/plain": [
              "1"
            ]
          },
          "execution_count": 76,
          "metadata": {},
          "output_type": "execute_result"
        }
      ],
      "source": [
        "np.argmax(model_3.predict(['i dont have any idea about this video']))"
      ]
    },
    {
      "cell_type": "markdown",
      "metadata": {
        "id": "vXbMs82-7bDA"
      },
      "source": [
        "# Classify Youtube Comments"
      ]
    },
    {
      "cell_type": "code",
      "execution_count": null,
      "metadata": {
        "id": "LYhcSGWnLOig"
      },
      "outputs": [],
      "source": [
        "# Load pre-trained model if you don't want to run all cells\n",
        "# model = tf.keras.models.load_model('comment_sentiment_model')"
      ]
    },
    {
      "cell_type": "code",
      "execution_count": null,
      "metadata": {
        "id": "MMmTsBVB_Efv"
      },
      "outputs": [],
      "source": [
        "def url_separator(url):\n",
        "  \"\"\"\n",
        "  Gets the video ID from given youtube video URL\n",
        "  \"\"\"\n",
        "  _, video_id = url.split('=')\n",
        "  return video_id"
      ]
    },
    {
      "cell_type": "code",
      "execution_count": null,
      "metadata": {
        "id": "D6yN0bh31qxZ"
      },
      "outputs": [],
      "source": [
        "from googleapiclient.discovery import build\n",
        "\n",
        "def scrape_comments(url, api_key):\n",
        "  \"\"\"\n",
        "  Scrapes comments of given youtube video(url) as a list.\n",
        "  Needs your API_KEY from Google Cloud Console (YouTube Data API v3)\n",
        "  \"\"\"\n",
        "  API_KEY = api_key\n",
        "\n",
        "  YOUTUBE_API_SERVICE_NAME = 'youtube'\n",
        "  YOUTUBE_API_VERSION = 'v3'\n",
        "\n",
        "  VIDEO_ID = url_separator(url)\n",
        "\n",
        "\n",
        "  youtube = build(YOUTUBE_API_SERVICE_NAME,\n",
        "                  YOUTUBE_API_VERSION,\n",
        "                  developerKey=API_KEY)\n",
        "\n",
        "  comments = []\n",
        "  results = youtube.commentThreads().list(\n",
        "      part='snippet',\n",
        "      videoId=VIDEO_ID,\n",
        "      textFormat='plainText',\n",
        "      maxResults=100).execute()\n",
        "\n",
        "\n",
        "  while results:\n",
        "      for item in results['items']:\n",
        "          comment = item['snippet']['topLevelComment']['snippet']['textDisplay']\n",
        "          comments.append(comment)\n",
        "\n",
        "      # Check if there are more comments to retrieve.\n",
        "      if 'nextPageToken' in results:\n",
        "          next_page_token = results['nextPageToken']\n",
        "          results = youtube.commentThreads().list(\n",
        "              part='snippet',\n",
        "              videoId=VIDEO_ID,\n",
        "              textFormat='plainText',\n",
        "              maxResults=100,\n",
        "              pageToken=next_page_token).execute()\n",
        "      else:\n",
        "          break\n",
        "  return comments"
      ]
    },
    {
      "cell_type": "code",
      "execution_count": null,
      "metadata": {
        "id": "oj7zcaok5x22"
      },
      "outputs": [],
      "source": [
        "\n",
        "def comment_sentiment_counter(comments):\n",
        "  \"\"\"\n",
        "  Classifies the comments and returns the count of the classes \n",
        "\n",
        "  Args:\n",
        "    comments (list): A list of comments to be classified\n",
        "\n",
        "  Returns:\n",
        "    tuple: A tuple containing the count of the likes, neutral, and dislikes classes\n",
        "\n",
        "  \"\"\"\n",
        "  likes = 0\n",
        "  dislikes = 0\n",
        "  neutral = 0\n",
        "  for i in range((len(comments))):\n",
        "    com_class = np.argmax(model_3.predict([comments[i]], verbose=0))\n",
        "    if com_class == 0:\n",
        "      dislikes += 1\n",
        "    elif com_class == 1:\n",
        "      neutral += 1\n",
        "    else:\n",
        "      likes +=1\n",
        "\n",
        "  return likes, neutral, dislikes"
      ]
    },
    {
      "cell_type": "code",
      "execution_count": null,
      "metadata": {
        "id": "RKZioxTHEcoG"
      },
      "outputs": [],
      "source": [
        "comments = scrape_comments(\"https://www.youtube.com/watch?v=_tzqk8mEOLo\", \"API_KEY\")"
      ]
    },
    {
      "cell_type": "code",
      "execution_count": null,
      "metadata": {
        "colab": {
          "base_uri": "https://localhost:8080/"
        },
        "id": "tTiR96mCKqPi",
        "outputId": "01298ac0-1309-4662-80da-13fc879da4a2"
      },
      "outputs": [
        {
          "data": {
            "text/plain": [
              "(161, 188, 216)"
            ]
          },
          "execution_count": 104,
          "metadata": {},
          "output_type": "execute_result"
        }
      ],
      "source": [
        "comment_sentiment_counter(comments)"
      ]
    }
  ],
  "metadata": {
    "colab": {
      "provenance": []
    },
    "kernelspec": {
      "display_name": "Python 3",
      "name": "python3"
    },
    "language_info": {
      "name": "python"
    }
  },
  "nbformat": 4,
  "nbformat_minor": 0
}
